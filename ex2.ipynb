{
 "cells": [
  {
   "cell_type": "code",
   "execution_count": 59,
   "id": "24a752b9",
   "metadata": {},
   "outputs": [],
   "source": [
    "subjects = [\"physics\",\"calculus\",\"poetry\",\"history\"]\n",
    "\n",
    "grades = [98,97,85,88]"
   ]
  },
  {
   "cell_type": "code",
   "execution_count": 60,
   "id": "5cf7bd9f",
   "metadata": {},
   "outputs": [
    {
     "data": {
      "text/plain": [
       "[['physics', 98], ['calculus', 97], ['poetry', 85], ['history', 88]]"
      ]
     },
     "execution_count": 60,
     "metadata": {},
     "output_type": "execute_result"
    }
   ],
   "source": [
    "gradebook = [[subjects[0],grades[0]],[subjects[1],grades[1]],[subjects[2],grades[2]],[subjects[3],grades[3]]]\n",
    "\n",
    "gradebook"
   ]
  },
  {
   "cell_type": "code",
   "execution_count": 61,
   "id": "0e1b317e",
   "metadata": {},
   "outputs": [],
   "source": [
    "gradebook.append([\"computer science\",100])"
   ]
  },
  {
   "cell_type": "code",
   "execution_count": 62,
   "id": "0bb20f66",
   "metadata": {},
   "outputs": [],
   "source": [
    "gradebook.append([\"visual arts\", 93])"
   ]
  },
  {
   "cell_type": "code",
   "execution_count": 63,
   "id": "2f563e27",
   "metadata": {},
   "outputs": [],
   "source": [
    "gradebook[5][1] = 93 + 5"
   ]
  },
  {
   "cell_type": "code",
   "execution_count": 64,
   "id": "0d87ec91",
   "metadata": {},
   "outputs": [],
   "source": [
    "gradebook[2].remove(85)"
   ]
  },
  {
   "cell_type": "code",
   "execution_count": 65,
   "id": "33580250",
   "metadata": {},
   "outputs": [],
   "source": [
    "gradebook[2].append(\"Pass\")"
   ]
  },
  {
   "cell_type": "code",
   "execution_count": 66,
   "id": "3f2ae707",
   "metadata": {},
   "outputs": [
    {
     "data": {
      "text/plain": [
       "[['physics', 98],\n",
       " ['calculus', 97],\n",
       " ['poetry', 'Pass'],\n",
       " ['history', 88],\n",
       " ['computer science', 100],\n",
       " ['visual arts', 98]]"
      ]
     },
     "execution_count": 66,
     "metadata": {},
     "output_type": "execute_result"
    }
   ],
   "source": [
    "gradebook"
   ]
  },
  {
   "cell_type": "code",
   "execution_count": 67,
   "id": "c04cf742",
   "metadata": {},
   "outputs": [],
   "source": [
    "last_semester_gradebook = [[\"politics\", 80], [\"latin\", 96], [\"dance\", 97], [\"architecture\", 65]]"
   ]
  },
  {
   "cell_type": "code",
   "execution_count": 68,
   "id": "423a4abc",
   "metadata": {},
   "outputs": [],
   "source": [
    "full_gradebook = last_semester_gradebook+gradebook"
   ]
  },
  {
   "cell_type": "code",
   "execution_count": 69,
   "id": "ba3d7324",
   "metadata": {},
   "outputs": [
    {
     "data": {
      "text/plain": [
       "[['politics', 80],\n",
       " ['latin', 96],\n",
       " ['dance', 97],\n",
       " ['architecture', 65],\n",
       " ['physics', 98],\n",
       " ['calculus', 97],\n",
       " ['poetry', 'Pass'],\n",
       " ['history', 88],\n",
       " ['computer science', 100],\n",
       " ['visual arts', 98]]"
      ]
     },
     "execution_count": 69,
     "metadata": {},
     "output_type": "execute_result"
    }
   ],
   "source": [
    "full_gradebook"
   ]
  },
  {
   "cell_type": "code",
   "execution_count": null,
   "id": "be0e2588",
   "metadata": {},
   "outputs": [],
   "source": []
  }
 ],
 "metadata": {
  "kernelspec": {
   "display_name": "Python 3 (ipykernel)",
   "language": "python",
   "name": "python3"
  },
  "language_info": {
   "codemirror_mode": {
    "name": "ipython",
    "version": 3
   },
   "file_extension": ".py",
   "mimetype": "text/x-python",
   "name": "python",
   "nbconvert_exporter": "python",
   "pygments_lexer": "ipython3",
   "version": "3.9.7"
  }
 },
 "nbformat": 4,
 "nbformat_minor": 5
}
