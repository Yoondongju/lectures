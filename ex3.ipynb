{
 "cells": [
  {
   "cell_type": "code",
   "execution_count": 32,
   "id": "7ffc6f38-d645-48b0-9455-ff9d34caa712",
   "metadata": {},
   "outputs": [],
   "source": [
    "import numpy as np"
   ]
  },
  {
   "cell_type": "code",
   "execution_count": 33,
   "id": "ca098412-f0e8-4b1a-977f-fe6b6aee72fb",
   "metadata": {},
   "outputs": [],
   "source": [
    "prices = [30, 25, 40, 20, 20, 35, 50, 35]"
   ]
  },
  {
   "cell_type": "code",
   "execution_count": 34,
   "id": "cc19cd65-7301-4151-aa70-6e753f212b2c",
   "metadata": {},
   "outputs": [],
   "source": [
    "last_week = [2, 3, 5, 8, 4, 4, 6, 2]"
   ]
  },
  {
   "cell_type": "code",
   "execution_count": 35,
   "id": "f4e09689-0a91-4fec-b305-9fb55a9c9fb2",
   "metadata": {},
   "outputs": [
    {
     "data": {
      "text/plain": [
       "255"
      ]
     },
     "execution_count": 35,
     "metadata": {},
     "output_type": "execute_result"
    }
   ],
   "source": [
    "total_price = 0\n",
    "for i in range(0,len(prices)):\n",
    "    total_price += prices[i]\n",
    "\n",
    "total_price"
   ]
  },
  {
   "cell_type": "code",
   "execution_count": 36,
   "id": "2582de60-614b-4604-97d0-7bd9019b6745",
   "metadata": {},
   "outputs": [
    {
     "data": {
      "text/plain": [
       "31.875"
      ]
     },
     "execution_count": 36,
     "metadata": {},
     "output_type": "execute_result"
    }
   ],
   "source": [
    "average_price = total_price/len(prices)\n",
    "\n",
    "average_price"
   ]
  },
  {
   "cell_type": "code",
   "execution_count": 37,
   "id": "b8e48830-bf17-48ea-b6e0-9882f2ba9468",
   "metadata": {},
   "outputs": [
    {
     "data": {
      "text/plain": [
       "array([25, 20, 35, 15, 15, 30, 45, 30])"
      ]
     },
     "execution_count": 37,
     "metadata": {},
     "output_type": "execute_result"
    }
   ],
   "source": [
    "new_prices = np.subtract(prices,5)\n",
    "new_prices"
   ]
  },
  {
   "cell_type": "code",
   "execution_count": 38,
   "id": "1584a26d-5458-453e-a0cd-471bc43c37d2",
   "metadata": {},
   "outputs": [
    {
     "data": {
      "text/plain": [
       "1085"
      ]
     },
     "execution_count": 38,
     "metadata": {},
     "output_type": "execute_result"
    }
   ],
   "source": [
    "total_revenue = 0\n",
    "for i in range(len(hairstyles)):\n",
    "    total_revenue += prices[i] * last_week[i]\n",
    "    \n",
    "total_revenue"
   ]
  },
  {
   "cell_type": "code",
   "execution_count": 39,
   "id": "00846ace-8324-4224-915f-a50f7ff96b3e",
   "metadata": {},
   "outputs": [
    {
     "name": "stdout",
     "output_type": "stream",
     "text": [
      "Average daily revenue is 155.0\n"
     ]
    }
   ],
   "source": [
    "print(\"Average daily revenue is\", total_revenue / 7)"
   ]
  },
  {
   "cell_type": "code",
   "execution_count": 40,
   "id": "4675912d-3853-4f1a-bbd0-a3a886219287",
   "metadata": {},
   "outputs": [
    {
     "name": "stdout",
     "output_type": "stream",
     "text": [
      "['bouffant', 'pixie', 'crew', 'bowl']\n"
     ]
    }
   ],
   "source": [
    "cuts_under_30 = [hairstyles[i] for i in range(len(new_prices)) if new_prices[i] < 30]\n",
    "\n",
    "print(cuts_under_30)"
   ]
  },
  {
   "cell_type": "code",
   "execution_count": null,
   "id": "50a6f705-8ee8-478a-853e-d4463de2df05",
   "metadata": {},
   "outputs": [],
   "source": []
  }
 ],
 "metadata": {
  "kernelspec": {
   "display_name": "Python 3 (ipykernel)",
   "language": "python",
   "name": "python3"
  },
  "language_info": {
   "codemirror_mode": {
    "name": "ipython",
    "version": 3
   },
   "file_extension": ".py",
   "mimetype": "text/x-python",
   "name": "python",
   "nbconvert_exporter": "python",
   "pygments_lexer": "ipython3",
   "version": "3.9.7"
  }
 },
 "nbformat": 4,
 "nbformat_minor": 5
}
